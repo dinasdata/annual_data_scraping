{
 "cells": [
  {
   "cell_type": "markdown",
   "id": "579f1404",
   "metadata": {},
   "source": [
    "# Library importation and request status getting\n",
    "First we are importing all the needed libraries and then we are asking to the website weahterandclimate.com if it allows us scraping datas\n"
   ]
  },
  {
   "cell_type": "code",
   "execution_count": null,
   "id": "28a3b1f8",
   "metadata": {},
   "outputs": [
    {
     "name": "stdout",
     "output_type": "stream",
     "text": [
      "200\n"
     ]
    }
   ],
   "source": [
    "import pandas as pd\n",
    "import requests\n",
    "from bs4 import BeautifulSoup\n",
    "url = \"https://weatherandclimate.com\"\n",
    "request = requests.get(url)\n",
    "print(request.status_code)"
   ]
  },
  {
   "cell_type": "markdown",
   "id": "5f51262f",
   "metadata": {},
   "source": [
    "The request status code is 200, so the website allows our request so we can scrap data in it."
   ]
  },
  {
   "cell_type": "markdown",
   "id": "98262418",
   "metadata": {},
   "source": [
    "# Creating the main scraping function\n",
    "Our goal is now to create a function to scrap a table data in a specific year and specific mounth for a selected province in Madagascar"
   ]
  },
  {
   "cell_type": "code",
   "execution_count": 36,
   "id": "8c4616bb",
   "metadata": {},
   "outputs": [
    {
     "name": "stdout",
     "output_type": "stream",
     "text": [
      "['Max Temperature', '31.0°C (87.8°F)', '28.0°C (82.4°F)', '24.0°C (75.2°F)', 'Avg Temperature', '28.0°C (82.4°F)', '26.58°C (79.84°F)', '24.0°C (75.2°F)', 'Min Temperature', '26.0°C (78.8°F)', '24.29°C (75.72°F)', '23.0°C (73.4°F)', 'Dew Point', '24.0°C (75.2°F)', '22.13°C (71.83°F)', '20.0°C (68.0°F)', 'Precipitation', '111.2mm | 4.38in', '16.94mm | 0.67in', '0.0mm | 0in', '525.2mm | 20.68in', 'Snowdepth', '0.0mm | 0in', '0.0mm | 0in', '0.0mm | 0in', '0.0mm | 0in', 'Wind', '20.0kmh | 12.43mph', '12.06kmh | 7.49mph', '6.0kmh | 3.73mph', 'Gust Wind', '30.0kmh | 18.64mph', '17.65kmh | 10.97mph', '10.0kmh | 6.21mph', 'Sea Level Pressure', '111.2mb', '16.94mb', '0.0mb']\n"
     ]
    }
   ],
   "source": [
    "def summary_scrap(town,month,year):\n",
    "    request = requests.get(url + \"/{}/{}-{}\".format(town,month,year))\n",
    "    soup = BeautifulSoup(request.text,\"lxml\")\n",
    "    table = soup.find(\"table\",{\"class\",\"tb8\"}).find_all(\"td\") \n",
    "    data = []\n",
    "    for i in range(len(table)):\n",
    "        if table[i].text != \"\":\n",
    "            data.append(table[i].text)\n",
    "    \n",
    "    print(data)\n",
    "\n",
    "\n",
    "summary_scrap(\"toamasina\",\"january\",\"2020\")"
   ]
  }
 ],
 "metadata": {
  "kernelspec": {
   "display_name": "Python 3",
   "language": "python",
   "name": "python3"
  },
  "language_info": {
   "codemirror_mode": {
    "name": "ipython",
    "version": 3
   },
   "file_extension": ".py",
   "mimetype": "text/x-python",
   "name": "python",
   "nbconvert_exporter": "python",
   "pygments_lexer": "ipython3",
   "version": "3.12.3"
  }
 },
 "nbformat": 4,
 "nbformat_minor": 5
}
